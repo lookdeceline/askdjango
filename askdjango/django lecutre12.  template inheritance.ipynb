{
 "cells": [
  {
   "cell_type": "markdown",
   "metadata": {},
   "source": [
    "# 1.Template Inheritance Intro"
   ]
  },
  {
   "cell_type": "markdown",
   "metadata": {},
   "source": [
    "- 템플릿 파일에서 필연적으로 발생하는 중복을 상속으로 해결. \n",
    "\n",
    "- **parent template**\n",
    "    전체 레이아웃을 정의\n",
    "    자식 템플릿이 재정의할 block을 다수 정의\n",
    "    \n",
    "- **child template**\n",
    "    부모 템플릿의 block 영역만 재정의 가능\n",
    "\n",
    "- 상속 문법:\n",
    "    {extends \"parent_template_path\" %}"
   ]
  },
  {
   "cell_type": "code",
   "execution_count": null,
   "metadata": {},
   "outputs": [],
   "source": []
  }
 ],
 "metadata": {
  "kernelspec": {
   "display_name": "Django Shell-Plus",
   "language": "python",
   "name": "django_extensions"
  },
  "language_info": {
   "codemirror_mode": {
    "name": "ipython",
    "version": 3
   },
   "file_extension": ".py",
   "mimetype": "text/x-python",
   "name": "python",
   "nbconvert_exporter": "python",
   "pygments_lexer": "ipython3",
   "version": "3.7.1"
  }
 },
 "nbformat": 4,
 "nbformat_minor": 2
}
