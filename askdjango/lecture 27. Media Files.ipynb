{
 "cells": [
  {
   "cell_type": "markdown",
   "metadata": {},
   "source": [
    "# Media Files\n",
    "**유저가 업로드한 파일 관리?**"
   ]
  },
  {
   "cell_type": "markdown",
   "metadata": {},
   "source": [
    "## 1. settings.py "
   ]
  },
  {
   "cell_type": "raw",
   "metadata": {},
   "source": [
    "MEDIA_URL = '/media/'\n",
    "MEDIA_ROOT = os.path.join(BASE_DIR, 'media')"
   ]
  },
  {
   "cell_type": "markdown",
   "metadata": {},
   "source": [
    "## 2. FileField / ImageField\n",
    "**파일 저장을 지원하는 django 모델필드**<br>\n",
    "**파일 자체**는 settings.MEDIA_ROOT 경로에 저장하며,<br>\n",
    "**DB필드에는** settings.MEDIA_ROOT 내 저장된 **하위경로를** 저장."
   ]
  },
  {
   "cell_type": "markdown",
   "metadata": {},
   "source": [
    "## 3. pip install pillow\n",
    "views.py에서 ImageField/FileField 생성 후 makemigrations할 때 꼭 필요한 library.<br>"
   ]
  },
  {
   "cell_type": "code",
   "execution_count": null,
   "metadata": {},
   "outputs": [],
   "source": []
  }
 ],
 "metadata": {
  "kernelspec": {
   "display_name": "Django Shell-Plus",
   "language": "python",
   "name": "django_extensions"
  },
  "language_info": {
   "codemirror_mode": {
    "name": "ipython",
    "version": 3
   },
   "file_extension": ".py",
   "mimetype": "text/x-python",
   "name": "python",
   "nbconvert_exporter": "python",
   "pygments_lexer": "ipython3",
   "version": "3.7.1"
  }
 },
 "nbformat": 4,
 "nbformat_minor": 2
}
