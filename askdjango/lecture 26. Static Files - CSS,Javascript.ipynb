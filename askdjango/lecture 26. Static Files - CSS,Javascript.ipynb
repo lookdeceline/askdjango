{
 "cells": [
  {
   "cell_type": "markdown",
   "metadata": {},
   "source": [
    "# Static Files\n",
    "개발 리소스 담는 파일. CSS, JV , etc."
   ]
  },
  {
   "cell_type": "markdown",
   "metadata": {},
   "source": [
    "## 1.Settings.py\n"
   ]
  },
  {
   "cell_type": "raw",
   "metadata": {},
   "source": [
    "STATIC_URL = '/static/'\n",
    "\n",
    "STATICFILES_DIRS = [\n",
    "    os.path.join(BASE_DIR, 'askdjango', 'static'),\n",
    "]\n",
    "\n",
    "STATIC_ROOT = os.path.join(BASE_DIR, '..', 'staticfiles')"
   ]
  },
  {
   "cell_type": "markdown",
   "metadata": {},
   "source": [
    "**code:**"
   ]
  },
  {
   "cell_type": "raw",
   "metadata": {},
   "source": [
    "{% load static %}\n",
    "<img src=\"{% static \"blog/title.png\" %}\" />"
   ]
  },
  {
   "cell_type": "code",
   "execution_count": null,
   "metadata": {},
   "outputs": [],
   "source": []
  }
 ],
 "metadata": {
  "kernelspec": {
   "display_name": "Django Shell-Plus",
   "language": "python",
   "name": "django_extensions"
  },
  "language_info": {
   "codemirror_mode": {
    "name": "ipython",
    "version": 3
   },
   "file_extension": ".py",
   "mimetype": "text/x-python",
   "name": "python",
   "nbconvert_exporter": "python",
   "pygments_lexer": "ipython3",
   "version": "3.7.1"
  }
 },
 "nbformat": 4,
 "nbformat_minor": 2
}
