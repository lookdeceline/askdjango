{
 "cells": [
  {
   "cell_type": "markdown",
   "metadata": {},
   "source": [
    "**보충할 부분들:**\n",
    "    - queryset (post) 더 많이 생성 (lecture11 전 lec에서 나온내용임분\n",
    "    - tag_set을 admin에 등록 아직 안했음.\n",
    "    - tag_set 데이터들 생성 아직 안했음.                                   \n",
    "    - startapp shop 안만들어뒀음.\n",
    "    - 마지막 10분 tag_set가지고 ManyToManyField manipulate하는 함수들 실습 안했음."
   ]
  },
  {
   "cell_type": "markdown",
   "metadata": {},
   "source": [
    "## ForeignKey"
   ]
  },
  {
   "cell_type": "code",
   "execution_count": 1,
   "metadata": {},
   "outputs": [
    {
     "data": {
      "text/plain": [
       "blog.models.Comment"
      ]
     },
     "execution_count": 1,
     "metadata": {},
     "output_type": "execute_result"
    }
   ],
   "source": [
    "Comment"
   ]
  },
  {
   "cell_type": "code",
   "execution_count": 2,
   "metadata": {},
   "outputs": [],
   "source": [
    "comment = Comment.objects.first()"
   ]
  },
  {
   "cell_type": "code",
   "execution_count": 3,
   "metadata": {},
   "outputs": [
    {
     "data": {
      "text/plain": [
       "{'sql': 'SELECT \"blog_comment\".\"id\", \"blog_comment\".\"post_id\", \"blog_comment\".\"author\", \"blog_comment\".\"message\", \"blog_comment\".\"created_at\", \"blog_comment\".\"updated_at\" FROM \"blog_comment\" ORDER BY \"blog_comment\".\"id\" ASC  LIMIT 1',\n",
       " 'time': '0.000'}"
      ]
     },
     "execution_count": 3,
     "metadata": {},
     "output_type": "execute_result"
    }
   ],
   "source": [
    "from django.db import connection\n",
    "connection.queries[-1]"
   ]
  },
  {
   "cell_type": "code",
   "execution_count": 4,
   "metadata": {},
   "outputs": [
    {
     "data": {
      "text/plain": [
       "1"
      ]
     },
     "execution_count": 4,
     "metadata": {},
     "output_type": "execute_result"
    }
   ],
   "source": [
    "comment.post_id"
   ]
  },
  {
   "cell_type": "code",
   "execution_count": 5,
   "metadata": {},
   "outputs": [
    {
     "name": "stdout",
     "output_type": "stream",
     "text": [
      "ANALYSIS: Martin Luther King Jr. Day spotlights diversity in the 2020 Democratic field\n",
      "ANALYSIS: Martin Luther King Jr. Day spotlights diversity in the 2020 Democratic field\n"
     ]
    }
   ],
   "source": [
    "print(comment.post)\n",
    "print(Post.objects.get(id=comment.post_id))"
   ]
  },
  {
   "cell_type": "markdown",
   "metadata": {},
   "source": [
    "## OneToOneField  (39:50)"
   ]
  },
  {
   "cell_type": "code",
   "execution_count": 6,
   "metadata": {},
   "outputs": [
    {
     "data": {
      "text/plain": [
       "accounts.models.Profile"
      ]
     },
     "execution_count": 6,
     "metadata": {},
     "output_type": "execute_result"
    }
   ],
   "source": [
    "Profile"
   ]
  },
  {
   "cell_type": "code",
   "execution_count": 7,
   "metadata": {},
   "outputs": [],
   "source": [
    "profile = Profile.objects.first()"
   ]
  },
  {
   "cell_type": "code",
   "execution_count": 8,
   "metadata": {},
   "outputs": [
    {
     "data": {
      "text/plain": [
       "{'sql': 'SELECT \"accounts_profile\".\"id\", \"accounts_profile\".\"user_id\", \"accounts_profile\".\"phone_number\", \"accounts_profile\".\"address\" FROM \"accounts_profile\" ORDER BY \"accounts_profile\".\"id\" ASC  LIMIT 1',\n",
       " 'time': '0.000'}"
      ]
     },
     "execution_count": 8,
     "metadata": {},
     "output_type": "execute_result"
    }
   ],
   "source": [
    "from django.db import connection\n",
    "connection.queries[-1]"
   ]
  },
  {
   "cell_type": "code",
   "execution_count": 9,
   "metadata": {},
   "outputs": [
    {
     "data": {
      "text/plain": [
       "1"
      ]
     },
     "execution_count": 9,
     "metadata": {},
     "output_type": "execute_result"
    }
   ],
   "source": [
    "profile.user_id"
   ]
  },
  {
   "cell_type": "code",
   "execution_count": 10,
   "metadata": {},
   "outputs": [
    {
     "data": {
      "text/plain": [
       "<User: celine>"
      ]
     },
     "execution_count": 10,
     "metadata": {},
     "output_type": "execute_result"
    }
   ],
   "source": [
    "profile.user"
   ]
  },
  {
   "cell_type": "code",
   "execution_count": 12,
   "metadata": {},
   "outputs": [
    {
     "data": {
      "text/plain": [
       "{'sql': 'SELECT \"auth_user\".\"id\", \"auth_user\".\"password\", \"auth_user\".\"last_login\", \"auth_user\".\"is_superuser\", \"auth_user\".\"username\", \"auth_user\".\"first_name\", \"auth_user\".\"last_name\", \"auth_user\".\"email\", \"auth_user\".\"is_staff\", \"auth_user\".\"is_active\", \"auth_user\".\"date_joined\" FROM \"auth_user\" WHERE \"auth_user\".\"id\" = 1',\n",
       " 'time': '0.001'}"
      ]
     },
     "execution_count": 12,
     "metadata": {},
     "output_type": "execute_result"
    }
   ],
   "source": [
    "connection.queries[-1]"
   ]
  },
  {
   "cell_type": "markdown",
   "metadata": {},
   "source": [
    "Lazy:\n",
    "    본 model instance를 획득할 때야\n",
    "    ForeignKey, OneToOneField의 관계에 있는 레코드를 같이 fetch해 온다. (최대한 게으르게 획득해온다는 것이 포인트.)"
   ]
  },
  {
   "cell_type": "markdown",
   "metadata": {},
   "source": [
    "#### 참고: auth.User model과 관계를 맺을 때"
   ]
  },
  {
   "cell_type": "markdown",
   "metadata": {},
   "source": [
    "장고는 사용자 인증에 사용되는 User model 변경을 지원한다. \n",
    "비추천 방법1: user = models.OneToOneField(User)\n",
    "비추천 방법2: user = models.OneToOneField('auth.User')\n",
    "    \n",
    "추천 방법3: \n",
    "user = models.OneToOneField(settings.AUTH_USER_MODEL)\n",
    "\n",
    "참고 doc: \n",
    "https://docs.djangoproject.com/en/2.1/topics/auth/customizing/#auth-custom-user"
   ]
  },
  {
   "cell_type": "markdown",
   "metadata": {},
   "source": [
    "# ForeignKey 에 관한 내용들:"
   ]
  },
  {
   "cell_type": "markdown",
   "metadata": {},
   "source": [
    "##  1. ForeignKey.on_delete 옵션 45:57\n",
    "#### Post가 지워지면 해당 post의 comments는 어떻게 할 것인가?\n",
    "\n",
    "django 2.0 에서는 default = CASCADE 아님."
   ]
  },
  {
   "cell_type": "markdown",
   "metadata": {},
   "source": [
    "## 2. ForeignKey에서 related_name 지정의 필요성 \n",
    "#### 1:N 관계에서 1측에서 N측으로 접근 시의 속성명 : \"모델명소문자_set\"\n",
    "###### (1측 = post, N측 = comment)"
   ]
  },
  {
   "cell_type": "code",
   "execution_count": 17,
   "metadata": {},
   "outputs": [
    {
     "data": {
      "text/plain": [
       "<Comment: Comment object (6)>"
      ]
     },
     "execution_count": 17,
     "metadata": {},
     "output_type": "execute_result"
    }
   ],
   "source": [
    "# 실습을 위해 comment 우선 생성\n",
    "Comment.objects.create(post = post, author='auth1', message='comment1')\n",
    "Comment.objects.create(post = post, author='auth2', message='comment2')\n",
    "Comment.objects.create(post = post, author='auth3', message='comment3')\n"
   ]
  },
  {
   "cell_type": "code",
   "execution_count": 21,
   "metadata": {},
   "outputs": [
    {
     "name": "stdout",
     "output_type": "stream",
     "text": [
      "<QuerySet [<Comment: Comment object (4)>, <Comment: Comment object (5)>, <Comment: Comment object (6)>]>\n",
      "\n",
      "--------same result--------\n",
      "\n",
      "<QuerySet [<Comment: Comment object (4)>, <Comment: Comment object (5)>, <Comment: Comment object (6)>]>\n"
     ]
    }
   ],
   "source": [
    "# 첫 번째 post의 댓글을 가져오고 싶다면:\n",
    "post = Post.objects.first()\n",
    "\n",
    "## 방법1. N측에서 직접 접근 \n",
    "print(Comment.objects.filter(post=post))  \n",
    "\n",
    "print('\\n--------same result--------\\n')\n",
    "\n",
    "## 방법2. 1측에서 related_name을 이용해서 N측 접근\n",
    "print(post.comment_set.all())"
   ]
  },
  {
   "cell_type": "markdown",
   "metadata": {},
   "source": [
    "### 2-1. related_name 중복되는 경우: 한쪽 model에서 related_name(modelname_set)을 포기하거나 중복을 없애주거나\n",
    "\n",
    "'post' model에도 'user' 항목이 있고, 'shop' model에도 'user'항목이 있을 때, related_name을 이용해서 N측 접근을 하려고하면, 그 이름이 겹치므로 error남. \n",
    "\n",
    "따라서 한쪽 model에서 'user'을 변경하거나, 또는 'user'의 필드값에 related_name = 'new_name'을 지정해줘서 clash를 피할 수 있음. 대신 new_name을 지정한 model은 'user_set'을 이용해서 데이터 접근을 할 수 없음. "
   ]
  },
  {
   "cell_type": "code",
   "execution_count": 22,
   "metadata": {},
   "outputs": [
    {
     "ename": "NameError",
     "evalue": "name 'models' is not defined",
     "output_type": "error",
     "traceback": [
      "\u001b[0;31m---------------------------------------------------------------------------\u001b[0m",
      "\u001b[0;31mNameError\u001b[0m                                 Traceback (most recent call last)",
      "\u001b[0;32m<ipython-input-22-9e2c904713d4>\u001b[0m in \u001b[0;36m<module>\u001b[0;34m\u001b[0m\n\u001b[1;32m      1\u001b[0m \u001b[0;31m# blog/models.py\u001b[0m\u001b[0;34m\u001b[0m\u001b[0;34m\u001b[0m\u001b[0;34m\u001b[0m\u001b[0m\n\u001b[0;32m----> 2\u001b[0;31m \u001b[0;32mclass\u001b[0m \u001b[0mPost\u001b[0m\u001b[0;34m(\u001b[0m\u001b[0mmodels\u001b[0m\u001b[0;34m.\u001b[0m\u001b[0mModel\u001b[0m\u001b[0;34m)\u001b[0m\u001b[0;34m:\u001b[0m\u001b[0;34m\u001b[0m\u001b[0;34m\u001b[0m\u001b[0m\n\u001b[0m\u001b[1;32m      3\u001b[0m     \u001b[0muser\u001b[0m \u001b[0;34m=\u001b[0m \u001b[0mmodels\u001b[0m\u001b[0;34m.\u001b[0m\u001b[0mForeignKey\u001b[0m\u001b[0;34m(\u001b[0m\u001b[0msettings\u001b[0m\u001b[0;34m.\u001b[0m\u001b[0mAUTH_USER_MODEL\u001b[0m\u001b[0;34m,\u001b[0m \u001b[0mrelated_name\u001b[0m \u001b[0;34m=\u001b[0m \u001b[0;34m'blog_post_set'\u001b[0m\u001b[0;34m)\u001b[0m\u001b[0;34m\u001b[0m\u001b[0;34m\u001b[0m\u001b[0m\n\u001b[1;32m      4\u001b[0m \u001b[0;34m\u001b[0m\u001b[0m\n\u001b[1;32m      5\u001b[0m \u001b[0;31m# shop/models.py\u001b[0m\u001b[0;34m\u001b[0m\u001b[0;34m\u001b[0m\u001b[0;34m\u001b[0m\u001b[0m\n",
      "\u001b[0;31mNameError\u001b[0m: name 'models' is not defined"
     ]
    }
   ],
   "source": [
    "# blog/models.py\n",
    "class Post(models.Model):\n",
    "    user = models.ForeignKey(settings.AUTH_USER_MODEL, related_name = 'blog_post_set')\n",
    "\n",
    "# shop/models.py\n",
    "class Post(models.Model):\n",
    "    user = models.ForeignKey(settings.AUTH_USER_MODEL, related_name='shop_post_set')\n",
    "    \n",
    "## 이런식으로 related_name = 'new_name'을 붙여줌으로써 중복되는 related_name의 문제를 해결할 수 있다."
   ]
  },
  {
   "cell_type": "code",
   "execution_count": null,
   "metadata": {},
   "outputs": [],
   "source": []
  },
  {
   "cell_type": "code",
   "execution_count": null,
   "metadata": {},
   "outputs": [],
   "source": []
  },
  {
   "cell_type": "code",
   "execution_count": null,
   "metadata": {},
   "outputs": [],
   "source": []
  },
  {
   "cell_type": "code",
   "execution_count": null,
   "metadata": {},
   "outputs": [],
   "source": []
  },
  {
   "cell_type": "code",
   "execution_count": null,
   "metadata": {},
   "outputs": [],
   "source": []
  },
  {
   "cell_type": "code",
   "execution_count": null,
   "metadata": {},
   "outputs": [],
   "source": []
  },
  {
   "cell_type": "code",
   "execution_count": null,
   "metadata": {},
   "outputs": [],
   "source": []
  }
 ],
 "metadata": {
  "kernelspec": {
   "display_name": "Django Shell-Plus",
   "language": "python",
   "name": "django_extensions"
  },
  "language_info": {
   "codemirror_mode": {
    "name": "ipython",
    "version": 3
   },
   "file_extension": ".py",
   "mimetype": "text/x-python",
   "name": "python",
   "nbconvert_exporter": "python",
   "pygments_lexer": "ipython3",
   "version": "3.7.1"
  }
 },
 "nbformat": 4,
 "nbformat_minor": 2
}
