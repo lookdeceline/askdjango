{
 "cells": [
  {
   "cell_type": "markdown",
   "metadata": {},
   "source": [
    "#### image thumbnail helper django app:\n",
    "- django-imagekit\n",
    "- sorl-thumbnail\n",
    "- easy-thumbnail"
   ]
  },
  {
   "cell_type": "markdown",
   "metadata": {},
   "source": [
    "# django-imagekit"
   ]
  },
  {
   "cell_type": "markdown",
   "metadata": {},
   "source": [
    "## 1. install\n",
    "- pip install pillow\n",
    "- pip install django-imagekit\n",
    "- settings.py: INSTALLED_APPS : imagekit 추가"
   ]
  },
  {
   "cell_type": "markdown",
   "metadata": {},
   "source": [
    "## 2."
   ]
  },
  {
   "cell_type": "markdown",
   "metadata": {},
   "source": [
    "## 3."
   ]
  },
  {
   "cell_type": "markdown",
   "metadata": {},
   "source": [
    "## 4. 템플릿에서 직접 이미지 썸네일 처리하기\n",
    "**기본 지원 Generator: \"imagekit:thumbnail\"**\n",
    "- width\n",
    "- height\n",
    "- crop: default True\n",
    "- upscale: default True\n",
    "<br><br>\n",
    "{% load imagekit %}<br>\n",
    "- thumbnail Template tag : {% thumbnail \"300x300\" post.photo %}\n",
    "- generateimage Templage tag : {% generateimage \"imagekit:thumbnail\" source=post.photo width=300 height=300 %}"
   ]
  },
  {
   "cell_type": "code",
   "execution_count": null,
   "metadata": {},
   "outputs": [],
   "source": []
  }
 ],
 "metadata": {
  "kernelspec": {
   "display_name": "Django Shell-Plus",
   "language": "python",
   "name": "django_extensions"
  },
  "language_info": {
   "codemirror_mode": {
    "name": "ipython",
    "version": 3
   },
   "file_extension": ".py",
   "mimetype": "text/x-python",
   "name": "python",
   "nbconvert_exporter": "python",
   "pygments_lexer": "ipython3",
   "version": "3.7.1"
  }
 },
 "nbformat": 4,
 "nbformat_minor": 2
}
