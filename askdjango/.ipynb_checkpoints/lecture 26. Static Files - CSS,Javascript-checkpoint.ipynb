{
 "cells": [
  {
   "cell_type": "markdown",
   "metadata": {},
   "source": [
    "# Static Files\n",
    "개발 리소스 담는 파일. CSS, JV , etc."
   ]
  },
  {
   "cell_type": "markdown",
   "metadata": {},
   "source": [
    "## 1.Settings.py\n"
   ]
  },
  {
   "cell_type": "raw",
   "metadata": {},
   "source": [
    "STATIC_URL = '/static/'\n",
    "\n",
    "STATICFILES_DIRS = [\n",
    "    os.path.join(BASE_DIR, 'askdjango', 'static'),\n",
    "]\n",
    "\n",
    "STATIC_ROOT = os.path.join(BASE_DIR, '..', 'staticfiles')"
   ]
  },
  {
   "cell_type": "markdown",
   "metadata": {},
   "source": [
    "**code:**"
   ]
  },
  {
   "cell_type": "raw",
   "metadata": {},
   "source": [
    "{% load static %}\n",
    "<img src=\"{% static \"blog/title.png\" %}\" />"
   ]
  },
  {
   "cell_type": "markdown",
   "metadata": {},
   "source": [
    "## 2. Static 파일 모으는 순서, 적용순서\n",
    "\n",
    "1. python manage.py collectstatic 명령으로 settings.STATIC_ROOT 경로 아래로 static 파일들을 모두 복사\n",
    "2. settings.STAT_ROOT 경로에 모아진 파일을 배포서버로 복사\n",
    "3. settings.STATIC_URL 설정이 배포서버를 가르키도록 수정\n",
    "4. 실서비스 static 서빙 웹서버 결정(nginx/apache/S3/CDN 등)"
   ]
  },
  {
   "cell_type": "code",
   "execution_count": null,
   "metadata": {},
   "outputs": [],
   "source": []
  }
 ],
 "metadata": {
  "kernelspec": {
   "display_name": "Django Shell-Plus",
   "language": "python",
   "name": "django_extensions"
  },
  "language_info": {
   "codemirror_mode": {
    "name": "ipython",
    "version": 3
   },
   "file_extension": ".py",
   "mimetype": "text/x-python",
   "name": "python",
   "nbconvert_exporter": "python",
   "pygments_lexer": "ipython3",
   "version": "3.7.1"
  }
 },
 "nbformat": 4,
 "nbformat_minor": 2
}
