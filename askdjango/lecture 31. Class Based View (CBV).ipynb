{
 "cells": [
  {
   "cell_type": "markdown",
   "metadata": {},
   "source": [
    "# CBV"
   ]
  },
  {
   "cell_type": "markdown",
   "metadata": {},
   "source": [
    "## 1. lecture 4 내용\n",
    "### 1. django.views.generic \n",
    "- .as_view() 클래스함수를 통해 FBV를 생성해주는 클래스\n"
   ]
  },
  {
   "cell_type": "raw",
   "metadata": {},
   "source": [
    "def post_list1(request):\n",
    "    name = '공유'\n",
    "    return HttpResponse('''\n",
    "        <h1>AskDjango</h1>\n",
    "        <p>{name}</p>\n",
    "        <p>여러분의 파이썬&장고 페이스메이커가 되어드리겠습니다.</p>\n",
    "    '''.format(name=name))"
   ]
  },
  {
   "cell_type": "raw",
   "metadata": {},
   "source": [
    "class PostListView1(View):\n",
    "    def get(self, request):\n",
    "        name = '공유'\n",
    "        html = self.get_template_string().format(name=name)\n",
    "        return HttpResponse(html)\n",
    "    \n",
    "    def get_template_string(self):\n",
    "        return '''\n",
    "            <h1>AskDjango</h1>\n",
    "            <p>{name}</p>\n",
    "            <p>여러분의 파이썬&장고 페이스메이커가 되어드리겠습니다.</p>\n",
    "        '''\n",
    "\n",
    "post_list1 = PostListView1.as_view()\n"
   ]
  },
  {
   "cell_type": "code",
   "execution_count": null,
   "metadata": {},
   "outputs": [],
   "source": [
    "## 2. ver 1. FBV version"
   ]
  }
 ],
 "metadata": {
  "kernelspec": {
   "display_name": "Django Shell-Plus",
   "language": "python",
   "name": "django_extensions"
  },
  "language_info": {
   "codemirror_mode": {
    "name": "ipython",
    "version": 3
   },
   "file_extension": ".py",
   "mimetype": "text/x-python",
   "name": "python",
   "nbconvert_exporter": "python",
   "pygments_lexer": "ipython3",
   "version": "3.7.1"
  }
 },
 "nbformat": 4,
 "nbformat_minor": 2
}
