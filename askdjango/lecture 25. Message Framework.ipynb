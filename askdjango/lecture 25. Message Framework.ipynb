{
 "cells": [
  {
   "cell_type": "code",
   "execution_count": null,
   "metadata": {},
   "outputs": [],
   "source": [
    "# Message Framework"
   ]
  },
  {
   "cell_type": "markdown",
   "metadata": {},
   "source": [
    "### 1. Message Levels\n",
    "- 레벨 별로 필터링이 가능. 템플릿에서 다른 스타일로 노출 가능.\n",
    "- DEBUG\n",
    "- INFO\n",
    "- SUCCESS\n",
    "- WARNING\n",
    "- ERROR<br>\n",
    "- 메세지 등록 코드:<br>\n",
    "    - 방법1. messages.add_message(request, messsages.INFO, '새 글이 등록되었습니다.')<br>\n",
    "    - 방법2. messages.info(request, '새 글이 등록되었습니다.')<br>=> shortcut 형태<br>\n",
    "<br>\n",
    "def post_new(request):<br>\n",
    "&emsp;if form.is_valid():<br> \n",
    "        &emsp;&emsp;post = form.save()<br>\n",
    "        &emsp;&emsp;messages.info(request, '새 글이 등록되었습니다.')<br>\n",
    "        &emsp;&emsp;return redirect(post)<br>"
   ]
  },
  {
   "cell_type": "markdown",
   "metadata": {},
   "source": [
    "## 2. Message 등록 VS 소비 \n",
    "- 등록만 하고 소비 코드를 따로 작성해줘야 실제로 유저에게 메세지가 보여진다.\n",
    "- 등록 코드: in views.py \n",
    "- 소비 코드: in template file.<br>\n",
    "    => 보통 템플릿마다 message 소비 코드가 들어가므로, **최상위 template file에** 작성."
   ]
  },
  {
   "cell_type": "code",
   "execution_count": null,
   "metadata": {},
   "outputs": [],
   "source": []
  },
  {
   "cell_type": "code",
   "execution_count": null,
   "metadata": {},
   "outputs": [],
   "source": []
  },
  {
   "cell_type": "code",
   "execution_count": null,
   "metadata": {},
   "outputs": [],
   "source": []
  }
 ],
 "metadata": {
  "kernelspec": {
   "display_name": "Django Shell-Plus",
   "language": "python",
   "name": "django_extensions"
  },
  "language_info": {
   "codemirror_mode": {
    "name": "ipython",
    "version": 3
   },
   "file_extension": ".py",
   "mimetype": "text/x-python",
   "name": "python",
   "nbconvert_exporter": "python",
   "pygments_lexer": "ipython3",
   "version": "3.7.1"
  }
 },
 "nbformat": 4,
 "nbformat_minor": 2
}
